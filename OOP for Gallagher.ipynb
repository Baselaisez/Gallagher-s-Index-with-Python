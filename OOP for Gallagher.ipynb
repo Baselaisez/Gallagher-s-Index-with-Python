{
 "cells": [
  {
   "cell_type": "code",
   "execution_count": 1,
   "metadata": {},
   "outputs": [],
   "source": [
    "import numpy as np\n",
    "\n",
    "def rae(*args):\n",
    "    squared =  [i**2 for i in args]\n",
    "    E = 1-sum(squared)\n",
    "    return E\n",
    "\n",
    "def effect(*args):\n",
    "    squared =  [i**2 for i in args]\n",
    "    E = 1/sum(squared)\n",
    "\n",
    "\n",
    "def taking(*args):\n",
    "    return args\n",
    "\n",
    "def gallagher(v1,v2):\n",
    "    arr = list(np.array(v1)-np.array(v2))\n",
    "    sqrd_nums=list(map(lambda x:x**2,arr))\n",
    "    sm = sum(sqrd_nums)\n",
    "    res = ((sm)*(1/2))**(1/2)\n",
    "    return print(res)\n",
    "\n"
   ]
  }
 ],
 "metadata": {
  "kernelspec": {
   "display_name": "Python 3",
   "language": "python",
   "name": "python3"
  },
  "language_info": {
   "codemirror_mode": {
    "name": "ipython",
    "version": 3
   },
   "file_extension": ".py",
   "mimetype": "text/x-python",
   "name": "python",
   "nbconvert_exporter": "python",
   "pygments_lexer": "ipython3",
   "version": "3.7.6"
  }
 },
 "nbformat": 4,
 "nbformat_minor": 4
}
